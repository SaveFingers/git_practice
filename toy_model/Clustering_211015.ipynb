{
  "nbformat": 4,
  "nbformat_minor": 0,
  "metadata": {
    "colab": {
      "name": "Clustering_211015.ipynb",
      "provenance": [],
      "collapsed_sections": []
    },
    "kernelspec": {
      "name": "python3",
      "display_name": "Python 3"
    },
    "language_info": {
      "name": "python"
    },
    "accelerator": "GPU"
  },
  "cells": [
    {
      "cell_type": "markdown",
      "metadata": {
        "id": "4JowVDeArjU_"
      },
      "source": [
        "# Clustering(클러스터링)\n",
        "- K-Means 알고리즘을 활용해 유사한 집단별로 군집화\n",
        "- 클러스터링 평가 지표인 '실루엣 계수'를 활용해 가장 잘 군집화된 K개의 군집 탐색\n",
        "\n",
        "### K-Means(K-평균)\n",
        "- 군집화(Clustering)에서 가장 일반적으로 사용되는 알고리즘\n",
        "- K-평균은 군집 중심점(centorid)이라는 특정한 임의의 지점을 선택해 해당 중심에 가장 가까운 포인트들을 선택하는 군집화 기법\n",
        "- 군집 중심점은 선택된 포인트의 평균 지점으로 이동하고 이동된 중심점에서다시 가까운 포인트를 선택, 다시 중심점을 평균 지점으로 이동하는 프로세스를 반복적으로 수행\n",
        "- 모든 데이터 포인트에서 더이상 중심점의 이동이 없을 경우에 반복을 멈추고 해당 중심점에 속하는 데이터 포인트들을 군집화하는 기법"
      ]
    },
    {
      "cell_type": "markdown",
      "metadata": {
        "id": "JyA1QnUxWFzb"
      },
      "source": [
        "### 데이터\n",
        "- 아래 사용된 데이터는 공개된 [goodreads.com](https://drive.google.com/uc?id=17G5_MeSWuhYnD4fGJMvKRSOlBqCCimxJ) 데이터 중 'Poetry' 장르의 interaction data입니다.\n",
        "- 데이터의 구성은 다음과 같습니다.\n",
        "- Columns\n",
        "  - 1) user_id\n",
        "  - 2) book_id\n",
        "  - 3) rating\n"
      ]
    },
    {
      "cell_type": "markdown",
      "metadata": {
        "id": "D3jZOVCMASMh"
      },
      "source": [
        "## **필요 라이브러리 import**"
      ]
    },
    {
      "cell_type": "code",
      "metadata": {
        "id": "vC2APJMjAJCl"
      },
      "source": [
        "from google.colab import files\n",
        "\n",
        "import math\n",
        "import os\n",
        "import random\n",
        "import warnings\n",
        "warnings.filterwarnings(\"ignore\")\n",
        "\n",
        "import numpy as np\n",
        "import pandas as pd\n",
        "\n",
        "import matplotlib.pyplot as plt\n",
        "import matplotlib.cm as cm\n",
        "%matplotlib inline"
      ],
      "execution_count": 7,
      "outputs": []
    },
    {
      "cell_type": "code",
      "metadata": {
        "id": "IGqTHDpdVgIK"
      },
      "source": [
        "from tqdm import tqdm\n",
        "\n",
        "from sklearn.cluster import KMeans\n",
        "from sklearn.cluster import DBSCAN\n",
        "from sklearn.preprocessing import StandardScaler\n",
        "from sklearn.decomposition import PCA\n",
        "from sklearn.metrics import silhouette_score, silhouette_samples\n",
        "\n",
        "import plotly.graph_objs as go\n",
        "from plotly import tools\n",
        "from plotly.subplots import make_subplots\n",
        "import plotly.offline as py\n",
        "import plotly.express as px"
      ],
      "execution_count": 8,
      "outputs": []
    },
    {
      "cell_type": "code",
      "metadata": {
        "colab": {
          "base_uri": "https://localhost:8080/"
        },
        "id": "_MZbW7FscT74",
        "outputId": "16988ae4-5af2-4515-8905-6f5ce9ca93cb"
      },
      "source": [
        "from google.colab import drive\n",
        "drive.mount('/content/drive')"
      ],
      "execution_count": 9,
      "outputs": [
        {
          "output_type": "stream",
          "name": "stdout",
          "text": [
            "Drive already mounted at /content/drive; to attempt to forcibly remount, call drive.mount(\"/content/drive\", force_remount=True).\n"
          ]
        }
      ]
    },
    {
      "cell_type": "markdown",
      "metadata": {
        "id": "2byw--xjBYKc"
      },
      "source": [
        "## **데이터 로드**\n",
        "(1) book_poetry 데이터\n",
        "- 36514개의 행과 29개의 컬럼으로 구성되어 있음\n",
        "\n",
        "(2) interactions_poetry 데이터\n",
        "- "
      ]
    },
    {
      "cell_type": "code",
      "metadata": {
        "id": "amX7rAwiAJJh"
      },
      "source": [
        "file_path = \"/content/drive/MyDrive/AIFFEL/Hackathon/Toy_Data/action_data.csv\"\n",
        "\n",
        "action = pd.read_csv(file_path)"
      ],
      "execution_count": 10,
      "outputs": []
    },
    {
      "cell_type": "code",
      "metadata": {
        "colab": {
          "base_uri": "https://localhost:8080/",
          "height": 206
        },
        "id": "8Y3Tvzn29-k_",
        "outputId": "c8e631d8-d682-4cd3-f405-87725e777884"
      },
      "source": [
        "action.head()"
      ],
      "execution_count": 11,
      "outputs": [
        {
          "output_type": "execute_result",
          "data": {
            "text/html": [
              "<div>\n",
              "<style scoped>\n",
              "    .dataframe tbody tr th:only-of-type {\n",
              "        vertical-align: middle;\n",
              "    }\n",
              "\n",
              "    .dataframe tbody tr th {\n",
              "        vertical-align: top;\n",
              "    }\n",
              "\n",
              "    .dataframe thead th {\n",
              "        text-align: right;\n",
              "    }\n",
              "</style>\n",
              "<table border=\"1\" class=\"dataframe\">\n",
              "  <thead>\n",
              "    <tr style=\"text-align: right;\">\n",
              "      <th></th>\n",
              "      <th>Unnamed: 0</th>\n",
              "      <th>user_id</th>\n",
              "      <th>book_id</th>\n",
              "      <th>rating</th>\n",
              "    </tr>\n",
              "  </thead>\n",
              "  <tbody>\n",
              "    <tr>\n",
              "      <th>0</th>\n",
              "      <td>0</td>\n",
              "      <td>8842281e1d1347389f2ab93d60773d4d</td>\n",
              "      <td>1384</td>\n",
              "      <td>4</td>\n",
              "    </tr>\n",
              "    <tr>\n",
              "      <th>1</th>\n",
              "      <td>1</td>\n",
              "      <td>8842281e1d1347389f2ab93d60773d4d</td>\n",
              "      <td>1376</td>\n",
              "      <td>4</td>\n",
              "    </tr>\n",
              "    <tr>\n",
              "      <th>2</th>\n",
              "      <td>2</td>\n",
              "      <td>8842281e1d1347389f2ab93d60773d4d</td>\n",
              "      <td>30119</td>\n",
              "      <td>5</td>\n",
              "    </tr>\n",
              "    <tr>\n",
              "      <th>3</th>\n",
              "      <td>4</td>\n",
              "      <td>72fb0d0087d28c832f15776b0d936598</td>\n",
              "      <td>30119</td>\n",
              "      <td>3</td>\n",
              "    </tr>\n",
              "    <tr>\n",
              "      <th>4</th>\n",
              "      <td>5</td>\n",
              "      <td>ab2923b738ea3082f5f3efcbbfacb218</td>\n",
              "      <td>240007</td>\n",
              "      <td>4</td>\n",
              "    </tr>\n",
              "  </tbody>\n",
              "</table>\n",
              "</div>"
            ],
            "text/plain": [
              "   Unnamed: 0                           user_id  book_id  rating\n",
              "0           0  8842281e1d1347389f2ab93d60773d4d     1384       4\n",
              "1           1  8842281e1d1347389f2ab93d60773d4d     1376       4\n",
              "2           2  8842281e1d1347389f2ab93d60773d4d    30119       5\n",
              "3           4  72fb0d0087d28c832f15776b0d936598    30119       3\n",
              "4           5  ab2923b738ea3082f5f3efcbbfacb218   240007       4"
            ]
          },
          "metadata": {},
          "execution_count": 11
        }
      ]
    },
    {
      "cell_type": "code",
      "metadata": {
        "id": "PKBxQ-QAAJRm",
        "colab": {
          "base_uri": "https://localhost:8080/"
        },
        "outputId": "207b6b96-261d-4a41-e584-36f7df4e9baf"
      },
      "source": [
        "print(action.shape)"
      ],
      "execution_count": 12,
      "outputs": [
        {
          "output_type": "stream",
          "name": "stdout",
          "text": [
            "(1313610, 4)\n"
          ]
        }
      ]
    },
    {
      "cell_type": "code",
      "metadata": {
        "id": "dwel4ZBVQggC",
        "colab": {
          "base_uri": "https://localhost:8080/",
          "height": 305
        },
        "outputId": "404ffadc-0fd4-456a-f71f-6e611aabe670"
      },
      "source": [
        "# 전체 330만 개 데이터 중 일부 샘플 추출\n",
        "action_sample = action.loc[action['user_id'].isin(random.sample(list(action['user_id'].unique()), k=1000000))]"
      ],
      "execution_count": 15,
      "outputs": [
        {
          "output_type": "error",
          "ename": "ValueError",
          "evalue": "ignored",
          "traceback": [
            "\u001b[0;31m---------------------------------------------------------------------------\u001b[0m",
            "\u001b[0;31mValueError\u001b[0m                                Traceback (most recent call last)",
            "\u001b[0;32m<ipython-input-15-ecd2e6f82f7c>\u001b[0m in \u001b[0;36m<module>\u001b[0;34m()\u001b[0m\n\u001b[1;32m      1\u001b[0m \u001b[0;31m# 전체 330만 개 데이터 중 일부 샘플 추출\u001b[0m\u001b[0;34m\u001b[0m\u001b[0;34m\u001b[0m\u001b[0;34m\u001b[0m\u001b[0m\n\u001b[0;32m----> 2\u001b[0;31m \u001b[0maction_sample\u001b[0m \u001b[0;34m=\u001b[0m \u001b[0maction\u001b[0m\u001b[0;34m.\u001b[0m\u001b[0mloc\u001b[0m\u001b[0;34m[\u001b[0m\u001b[0maction\u001b[0m\u001b[0;34m[\u001b[0m\u001b[0;34m'user_id'\u001b[0m\u001b[0;34m]\u001b[0m\u001b[0;34m.\u001b[0m\u001b[0misin\u001b[0m\u001b[0;34m(\u001b[0m\u001b[0mrandom\u001b[0m\u001b[0;34m.\u001b[0m\u001b[0msample\u001b[0m\u001b[0;34m(\u001b[0m\u001b[0mlist\u001b[0m\u001b[0;34m(\u001b[0m\u001b[0maction\u001b[0m\u001b[0;34m[\u001b[0m\u001b[0;34m'user_id'\u001b[0m\u001b[0;34m]\u001b[0m\u001b[0;34m.\u001b[0m\u001b[0munique\u001b[0m\u001b[0;34m(\u001b[0m\u001b[0;34m)\u001b[0m\u001b[0;34m)\u001b[0m\u001b[0;34m,\u001b[0m \u001b[0mk\u001b[0m\u001b[0;34m=\u001b[0m\u001b[0;36m1000000\u001b[0m\u001b[0;34m)\u001b[0m\u001b[0;34m)\u001b[0m\u001b[0;34m]\u001b[0m\u001b[0;34m\u001b[0m\u001b[0;34m\u001b[0m\u001b[0m\n\u001b[0m",
            "\u001b[0;32m/usr/lib/python3.7/random.py\u001b[0m in \u001b[0;36msample\u001b[0;34m(self, population, k)\u001b[0m\n\u001b[1;32m    319\u001b[0m         \u001b[0mn\u001b[0m \u001b[0;34m=\u001b[0m \u001b[0mlen\u001b[0m\u001b[0;34m(\u001b[0m\u001b[0mpopulation\u001b[0m\u001b[0;34m)\u001b[0m\u001b[0;34m\u001b[0m\u001b[0;34m\u001b[0m\u001b[0m\n\u001b[1;32m    320\u001b[0m         \u001b[0;32mif\u001b[0m \u001b[0;32mnot\u001b[0m \u001b[0;36m0\u001b[0m \u001b[0;34m<=\u001b[0m \u001b[0mk\u001b[0m \u001b[0;34m<=\u001b[0m \u001b[0mn\u001b[0m\u001b[0;34m:\u001b[0m\u001b[0;34m\u001b[0m\u001b[0;34m\u001b[0m\u001b[0m\n\u001b[0;32m--> 321\u001b[0;31m             \u001b[0;32mraise\u001b[0m \u001b[0mValueError\u001b[0m\u001b[0;34m(\u001b[0m\u001b[0;34m\"Sample larger than population or is negative\"\u001b[0m\u001b[0;34m)\u001b[0m\u001b[0;34m\u001b[0m\u001b[0;34m\u001b[0m\u001b[0m\n\u001b[0m\u001b[1;32m    322\u001b[0m         \u001b[0mresult\u001b[0m \u001b[0;34m=\u001b[0m \u001b[0;34m[\u001b[0m\u001b[0;32mNone\u001b[0m\u001b[0;34m]\u001b[0m \u001b[0;34m*\u001b[0m \u001b[0mk\u001b[0m\u001b[0;34m\u001b[0m\u001b[0;34m\u001b[0m\u001b[0m\n\u001b[1;32m    323\u001b[0m         \u001b[0msetsize\u001b[0m \u001b[0;34m=\u001b[0m \u001b[0;36m21\u001b[0m        \u001b[0;31m# size of a small set minus size of an empty list\u001b[0m\u001b[0;34m\u001b[0m\u001b[0;34m\u001b[0m\u001b[0m\n",
            "\u001b[0;31mValueError\u001b[0m: Sample larger than population or is negative"
          ]
        }
      ]
    },
    {
      "cell_type": "code",
      "metadata": {
        "id": "kV0yDUP6r1Je"
      },
      "source": [
        "user_unique = action['user_id'].unique()\n",
        "user_to_idx = {v:k for k, v in enumerate(user_unique)}"
      ],
      "execution_count": 16,
      "outputs": []
    },
    {
      "cell_type": "code",
      "metadata": {
        "id": "ritW9OxJsF5b",
        "colab": {
          "base_uri": "https://localhost:8080/",
          "height": 423
        },
        "outputId": "50b90693-4107-4d7a-abdc-a486327ed98a"
      },
      "source": [
        "action['new_user_id'] = action['user_id'].apply(lambda x:user_to_idx[x])\n",
        "action"
      ],
      "execution_count": 17,
      "outputs": [
        {
          "output_type": "execute_result",
          "data": {
            "text/html": [
              "<div>\n",
              "<style scoped>\n",
              "    .dataframe tbody tr th:only-of-type {\n",
              "        vertical-align: middle;\n",
              "    }\n",
              "\n",
              "    .dataframe tbody tr th {\n",
              "        vertical-align: top;\n",
              "    }\n",
              "\n",
              "    .dataframe thead th {\n",
              "        text-align: right;\n",
              "    }\n",
              "</style>\n",
              "<table border=\"1\" class=\"dataframe\">\n",
              "  <thead>\n",
              "    <tr style=\"text-align: right;\">\n",
              "      <th></th>\n",
              "      <th>Unnamed: 0</th>\n",
              "      <th>user_id</th>\n",
              "      <th>book_id</th>\n",
              "      <th>rating</th>\n",
              "      <th>new_user_id</th>\n",
              "    </tr>\n",
              "  </thead>\n",
              "  <tbody>\n",
              "    <tr>\n",
              "      <th>0</th>\n",
              "      <td>0</td>\n",
              "      <td>8842281e1d1347389f2ab93d60773d4d</td>\n",
              "      <td>1384</td>\n",
              "      <td>4</td>\n",
              "      <td>0</td>\n",
              "    </tr>\n",
              "    <tr>\n",
              "      <th>1</th>\n",
              "      <td>1</td>\n",
              "      <td>8842281e1d1347389f2ab93d60773d4d</td>\n",
              "      <td>1376</td>\n",
              "      <td>4</td>\n",
              "      <td>0</td>\n",
              "    </tr>\n",
              "    <tr>\n",
              "      <th>2</th>\n",
              "      <td>2</td>\n",
              "      <td>8842281e1d1347389f2ab93d60773d4d</td>\n",
              "      <td>30119</td>\n",
              "      <td>5</td>\n",
              "      <td>0</td>\n",
              "    </tr>\n",
              "    <tr>\n",
              "      <th>3</th>\n",
              "      <td>4</td>\n",
              "      <td>72fb0d0087d28c832f15776b0d936598</td>\n",
              "      <td>30119</td>\n",
              "      <td>3</td>\n",
              "      <td>1</td>\n",
              "    </tr>\n",
              "    <tr>\n",
              "      <th>4</th>\n",
              "      <td>5</td>\n",
              "      <td>ab2923b738ea3082f5f3efcbbfacb218</td>\n",
              "      <td>240007</td>\n",
              "      <td>4</td>\n",
              "      <td>2</td>\n",
              "    </tr>\n",
              "    <tr>\n",
              "      <th>...</th>\n",
              "      <td>...</td>\n",
              "      <td>...</td>\n",
              "      <td>...</td>\n",
              "      <td>...</td>\n",
              "      <td>...</td>\n",
              "    </tr>\n",
              "    <tr>\n",
              "      <th>1313605</th>\n",
              "      <td>2734340</td>\n",
              "      <td>148e49f7ed14137ff13a9a31c770487d</td>\n",
              "      <td>2547</td>\n",
              "      <td>5</td>\n",
              "      <td>282411</td>\n",
              "    </tr>\n",
              "    <tr>\n",
              "      <th>1313606</th>\n",
              "      <td>2734341</td>\n",
              "      <td>da6f9516279ed671027308abd21318bd</td>\n",
              "      <td>11047097</td>\n",
              "      <td>4</td>\n",
              "      <td>282412</td>\n",
              "    </tr>\n",
              "    <tr>\n",
              "      <th>1313607</th>\n",
              "      <td>2734343</td>\n",
              "      <td>594c86711bd7acdaf655d102df52a9cb</td>\n",
              "      <td>7433930</td>\n",
              "      <td>5</td>\n",
              "      <td>282413</td>\n",
              "    </tr>\n",
              "    <tr>\n",
              "      <th>1313608</th>\n",
              "      <td>2734348</td>\n",
              "      <td>594c86711bd7acdaf655d102df52a9cb</td>\n",
              "      <td>16170625</td>\n",
              "      <td>5</td>\n",
              "      <td>282413</td>\n",
              "    </tr>\n",
              "    <tr>\n",
              "      <th>1313609</th>\n",
              "      <td>2734349</td>\n",
              "      <td>594c86711bd7acdaf655d102df52a9cb</td>\n",
              "      <td>16101638</td>\n",
              "      <td>4</td>\n",
              "      <td>282413</td>\n",
              "    </tr>\n",
              "  </tbody>\n",
              "</table>\n",
              "<p>1313610 rows × 5 columns</p>\n",
              "</div>"
            ],
            "text/plain": [
              "         Unnamed: 0                           user_id  ...  rating  new_user_id\n",
              "0                 0  8842281e1d1347389f2ab93d60773d4d  ...       4            0\n",
              "1                 1  8842281e1d1347389f2ab93d60773d4d  ...       4            0\n",
              "2                 2  8842281e1d1347389f2ab93d60773d4d  ...       5            0\n",
              "3                 4  72fb0d0087d28c832f15776b0d936598  ...       3            1\n",
              "4                 5  ab2923b738ea3082f5f3efcbbfacb218  ...       4            2\n",
              "...             ...                               ...  ...     ...          ...\n",
              "1313605     2734340  148e49f7ed14137ff13a9a31c770487d  ...       5       282411\n",
              "1313606     2734341  da6f9516279ed671027308abd21318bd  ...       4       282412\n",
              "1313607     2734343  594c86711bd7acdaf655d102df52a9cb  ...       5       282413\n",
              "1313608     2734348  594c86711bd7acdaf655d102df52a9cb  ...       5       282413\n",
              "1313609     2734349  594c86711bd7acdaf655d102df52a9cb  ...       4       282413\n",
              "\n",
              "[1313610 rows x 5 columns]"
            ]
          },
          "metadata": {},
          "execution_count": 17
        }
      ]
    },
    {
      "cell_type": "code",
      "metadata": {
        "id": "C4uez-MK_Rj7"
      },
      "source": [
        "del action['user_id']"
      ],
      "execution_count": 18,
      "outputs": []
    },
    {
      "cell_type": "markdown",
      "metadata": {
        "id": "VVKwpkTLlXu0"
      },
      "source": [
        "## **클러스터링**"
      ]
    },
    {
      "cell_type": "code",
      "metadata": {
        "id": "oY_Ykp2clXZa",
        "colab": {
          "base_uri": "https://localhost:8080/",
          "height": 439
        },
        "outputId": "6a3b2cd5-14eb-422a-a747-c967b5be9152"
      },
      "source": [
        "sse = []\n",
        "k_list = range(1, 30)\n",
        "for k in tqdm(k_list):\n",
        "    km = KMeans(n_clusters=k)\n",
        "    km.fit(action)\n",
        "    sse.append([k, km.inertia_])\n",
        "    \n",
        "oca_results_scale = pd.DataFrame({'Cluster': range(1,30), 'SSE': sse})\n",
        "plt.figure(figsize=(12,6))\n",
        "plt.plot(pd.DataFrame(sse)[0], pd.DataFrame(sse)[1], marker='o')\n",
        "plt.title('Optimal Number of Clusters using Elbow Method (Scaled Data)')\n",
        "plt.xlabel('Number of clusters')\n",
        "plt.ylabel('Inertia')"
      ],
      "execution_count": 19,
      "outputs": [
        {
          "output_type": "stream",
          "name": "stderr",
          "text": [
            "100%|██████████| 29/29 [14:04<00:00, 29.11s/it]\n"
          ]
        },
        {
          "output_type": "execute_result",
          "data": {
            "text/plain": [
              "Text(0, 0.5, 'Inertia')"
            ]
          },
          "metadata": {},
          "execution_count": 19
        },
        {
          "output_type": "display_data",
          "data": {
            "image/png": "[encoded data removed]",
            "text/plain": [
              "<Figure size 864x432 with 1 Axes>"
            ]
          },
          "metadata": {
            "needs_background": "light"
          }
        }
      ]
    },
    {
      "cell_type": "markdown",
      "metadata": {
        "id": "cwEHJHpKmxUT"
      },
      "source": [
        "## Silhouette Score 비교\n",
        "\n",
        "(1) 실루엣 분석\n",
        "- 각 군집 간의 거리가 얼마나 효율적으로 분리되어 있는지 나타남\n",
        "- 효율적으로 잘 분리되었다는 것은 다른 군집과의 거리는 떨어져 있고 동일 군집끼리의 데이터는 서로 가깝게 잘 뭉쳐 있다는 의미\n",
        "- 군집화가 잘 될수록, 개별 군집은 비슷한 정도의 여유 공간 가지고 떨어져 있음\n",
        "- 실루엣 분석은 실루엣 계수를 기반으로 함\n",
        "\n",
        "(2) 실루엣 계수\n",
        "- 개별 데이터가 가지는 군집화 지표\n",
        "- 해당 데이터가 같은 군집 내의 데이터와 얼마나 가깝게 군집화 돼있고, 다른 군집에 있는 데이터와는 얼마나 멀리 분리돼 있는지 나타내는 지표\n",
        "- -1에서 1사이의 값을 가지며, 1로 가까워 질수록 근처의 군집과 더 멀리 떨어져 있다는 것이고, 0에 가까울 수록 근처의 군집과 가까워 진다는 것\n",
        "\n",
        "(3) 좋은 군집화의 기준\n",
        "- 전체 실루엣 개수의 평균값은 0 ~ 1사이의 값을 가지며, 1에 가까울 수록 좋음\n",
        "- 전체 실루엣 계수의 평균값과 더불어 개별 군집의 평균값의 편차가 작아야 함\n",
        "- 즉, 개별 군집의 실루엣 계수 평균값이 전체 실루엣 계수의 평균값에서 크게 벗어나지 않는 것이 중요\n",
        "- 만약 전체 실루엣 계수의 평균값은 높지만, 특정 군집의 실루엣 계수 평균값만 유난히 높고 다른 군집들의 평균값은 낮으면 좋은 군집화가 아님"
      ]
    },
    {
      "cell_type": "code",
      "metadata": {
        "id": "7rmrR2IWeGt6"
      },
      "source": [
        "kmeans_2 = KMeans(n_clusters = 2).fit(action)\n",
        "kmeans_3 = KMeans(n_clusters = 3).fit(action)\n",
        "kmeans_4 = KMeans(n_clusters = 4).fit(action)\n",
        "kmeans_5 = KMeans(n_clusters = 5).fit(action)\n",
        "kmeans_6 = KMeans(n_clusters = 6).fit(action)\n",
        "\n",
        "print('KMeans Scaled Silhouette Score 2: {}'.format(silhouette_score(action, kmeans_2.labels_, metric='euclidean')))\n",
        "print('KMeans Scaled Silhouette Score 3: {}'.format(silhouette_score(action, kmeans_3.labels_, metric='euclidean')))\n",
        "print('KMeans Scaled Silhouette Score 4: {}'.format(silhouette_score(action, kmeans_4.labels_, metric='euclidean')))\n",
        "print('KMeans Scaled Silhouette Score 5: {}'.format(silhouette_score(action, kmeans_5.labels_, metric='euclidean')))\n",
        "print('KMeans Scaled Silhouette Score 6: {}'.format(silhouette_score(action, kmeans_6.labels_, metric='euclidean')))"
      ],
      "execution_count": null,
      "outputs": []
    },
    {
      "cell_type": "markdown",
      "metadata": {
        "id": "mzifXHI4lANi"
      },
      "source": [
        "Action 데이터 셋을 이용한 클러스터 평가\n",
        "- Action 데이터 셋의 군집화 결과를 실루엣 분석으로 평가해보기\n",
        "- silhouette_samples()와 silhouette_score()를 이용\n"
      ]
    },
    {
      "cell_type": "code",
      "metadata": {
        "id": "tgno_3ruKWUo"
      },
      "source": [
        "kmeans = KMeans(n_clusters = 3, init = 'k-means++', max_iter = 300, random_state = 0).fit(action_final)\n",
        "action['cluster'] = kmeans.labels_"
      ],
      "execution_count": null,
      "outputs": []
    },
    {
      "cell_type": "code",
      "metadata": {
        "id": "Yr6xzmDAQY_w"
      },
      "source": [
        "# 실루엣 분석 metric 값을 구하기 위한 API 추가\n",
        "from sklearn.metrics import silhouette_samples, silhouette_score\n",
        "\n",
        "# 모든 개별 데이터에 실루엣 계수값을 구함\n",
        "score_samples = silhouette_samples(action, action['cluster'])\n",
        "print('silhouette_samples() return 값의 shape', score_samples.shape)"
      ],
      "execution_count": null,
      "outputs": []
    },
    {
      "cell_type": "code",
      "metadata": {
        "id": "BrpeZT5bQYD0"
      },
      "source": [
        "# action_sample에 실루엣 계수 컬럼 추가\n",
        "action['silhouette_coeff'] = score_samples"
      ],
      "execution_count": null,
      "outputs": []
    },
    {
      "cell_type": "code",
      "metadata": {
        "id": "dp26XzKlQ-j_"
      },
      "source": [
        "# 모든 데이터의 평균 실루엣 계수값 구하기\n",
        "average_score = silhouette_score(action, action['cluster'])\n",
        "print('데이터셋 Silhouette Anlysis Score:'.format(average_score))\n",
        "\n",
        "action.head()"
      ],
      "execution_count": null,
      "outputs": []
    },
    {
      "cell_type": "code",
      "metadata": {
        "id": "M8S9pJ_URms1"
      },
      "source": [
        "# 군집별 평균 실루엣 계수 조회\n",
        "action.groupby('cluster')['silhouette_coeff'].mean()"
      ],
      "execution_count": null,
      "outputs": []
    },
    {
      "cell_type": "markdown",
      "metadata": {
        "id": "dDTvIZCPRybo"
      },
      "source": [
        "클러스터별 평균 실루엣 계수의 시각화를 통한 클러스터 개수 최적화 방법\n",
        "- 아래 그래프는 개별 군집에 속하는 데이터의 실루엣 계수를 2차원으로 나타낸 것\n",
        "- K- 평균 군집을 수행했을 때, 개별 군집별 평균 실루엣 계수 값을 시각화해서 군집의 개수를 정하는데 도움을 줌\n",
        "  - x축: 실루엣 계수 값\n",
        "  - y축: 개별 군집과 이에 속하는 데이터\n",
        "    - 숫자 값으로 어떤 군집인지 표기. 이에 해당되는 데이터는 Y축 높이로 추측\n",
        "  - 점선: 전체 평균 실루엣 계수 값"
      ]
    },
    {
      "cell_type": "code",
      "metadata": {
        "id": "pdZMYFGtRmY6"
      },
      "source": [
        "# 여러 개의 클러스터링 갯수를 list로 입력 받아 각각의 실루엣 계수를 면적으로 시각화한 함수\n",
        "def visualize_silhouette(cluster_lists, X_features):\n",
        "  # 입력값으로 클러스터링 갯수들을 리스트로 받아서, 각 개수별로 클러스터링을 적용하고 실루엣 개수를 구함\n",
        "  n_cols = len(cluster_lists)\n",
        "\n",
        "  # plt.subplots()으로 리스트에 기재된 클러스터링 수만큼의 sub figures를 가지는 axs 생성\n",
        "  fig, axs = plt.subplots(figsize = (4*n_cols, 4), nrows = 1, ncols = n_cols)\n",
        "\n",
        "  # 리스트에 기재된 클러스터링 갯수들을 차례로 iteration 수행하면서 실루엣 개수 시각화\n",
        "  for ind, n_cluster in enumerate(cluster_lists):\n",
        "    \n",
        "    # KMeans 클러스터링 수행하고, 실루엣 스코어와 개별 데이터의 실루엣 값 계산. \n",
        "    clusterer = KMeans(n_clusters = n_cluster, max_iter=500, random_state=0)\n",
        "    cluster_labels = clusterer.fit_predict(X_features)\n",
        "\n",
        "    sil_avg = silhouette_score(X_features, cluster_labels)\n",
        "    sil_values = silhouette_samples(X_features, cluster_labels)\n",
        "\n",
        "    y_lower = 10\n",
        "    axs[ind].set_title('Number of Cluster : '+ str(n_cluster)+'\\n' \\\n",
        "                          'Silhouette Score :' + str(round(sil_avg,3)) )\n",
        "    axs[ind].set_xlabel(\"The silhouette coefficient values\")\n",
        "    axs[ind].set_ylabel(\"Cluster label\")\n",
        "    axs[ind].set_xlim([-0.1, 1])\n",
        "    axs[ind].set_ylim([0, len(X_features) + (n_cluster + 1) * 10])\n",
        "    axs[ind].set_yticks([])  # Clear the yaxis labels / ticks\n",
        "    axs[ind].set_xticks([0, 0.2, 0.4, 0.6, 0.8, 1])\n",
        "\n",
        "    # 클러스터링 갯수별로 fill_betweenx( )형태의 막대 그래프 표현. \n",
        "    for i in range(n_cluster):\n",
        "      ith_cluster_sil_values = sil_values[cluster_labels==i]\n",
        "      ith_cluster_sil_values.sort()\n",
        "\n",
        "      size_cluster_i = ith_cluster_sil_values.shape[0]\n",
        "      y_upper = y_lower + size_cluster_i\n",
        "\n",
        "      color = cm.nipy_spectral(float(i) / n_cluster)\n",
        "      axs[ind].fill_betweenx(np.arange(y_lower, y_upper), 0, ith_cluster_sil_values, \\\n",
        "                                facecolor=color, edgecolor=color, alpha=0.7)\n",
        "      axs[ind].text(-0.05, y_lower + 0.5 * size_cluster_i, str(i))\n",
        "      y_lower = y_upper + 10\n",
        "\n",
        "      axs[ind].axvline(x=sil_avg, color=\"red\", linestyle=\"--\")"
      ],
      "execution_count": null,
      "outputs": []
    },
    {
      "cell_type": "code",
      "metadata": {
        "id": "o6x0K1JZV23o"
      },
      "source": [
        "visualize_silhouette([2, 3, 4, 5], action)"
      ],
      "execution_count": null,
      "outputs": []
    },
    {
      "cell_type": "markdown",
      "metadata": {
        "id": "tKdT1e6crhvk"
      },
      "source": [
        "K-평균을 이용한 'action_final' 데이터 세트 군집화"
      ]
    },
    {
      "cell_type": "code",
      "metadata": {
        "id": "-neSOYmYMpXA"
      },
      "source": [
        "print(kmeans.labels_)"
      ],
      "execution_count": null,
      "outputs": []
    },
    {
      "cell_type": "code",
      "metadata": {
        "id": "Jq4zZG47MpI5"
      },
      "source": [
        "pca = PCA(n_components = 2)\n",
        "pca_transformed = pca.fit_transform(action)\n",
        "\n",
        "action_final['pca_x'] = pca_transformed[:,0]\n",
        "action_final['pca_y'] = pca_transformed[:,1]\n",
        "action_final.head()"
      ],
      "execution_count": null,
      "outputs": []
    },
    {
      "cell_type": "code",
      "metadata": {
        "id": "fgq8rU2LMoT_"
      },
      "source": [
        "marker0_ind = action_final[action['cluster']==0].index \n",
        "marker1_ind = action_final[action['cluster']==1].index \n",
        "marker2_ind = action_final[action['cluster']==2].index\n",
        "\n",
        "plt.scatter(x=action_final.loc[marker0_ind, 'pca_x'], y = action.loc[marker0_ind, 'pca_y'], marker = 'o')\n",
        "plt.scatter(x=action_final.loc[marker1_ind, 'pca_x'], y = action.loc[marker1_ind, 'pca_y'], marker = 's')\n",
        "plt.scatter(x=action_final.loc[marker2_ind, 'pca_x'], y = action.loc[marker2_ind, 'pca_y'], marker = '^')\n",
        "\n",
        "plt.xlabel('PCA 1')\n",
        "plt.ylabel('PCA 2')\n",
        "plt.title('3 Clusters Visualization by 2 PCA Components')\n",
        "plt.show()"
      ],
      "execution_count": null,
      "outputs": []
    },
    {
      "cell_type": "code",
      "metadata": {
        "id": "G0ycgqfkV-yt"
      },
      "source": [
        "action['label'] = kmeans.labels_"
      ],
      "execution_count": null,
      "outputs": []
    },
    {
      "cell_type": "code",
      "metadata": {
        "id": "Fop-3YWgTvxV"
      },
      "source": [
        "# k-means 라벨 값으로 countplot\n",
        "sns.countplot(x = 'label', palette = 'Accent', data = action_final)\n",
        "plt.show()"
      ],
      "execution_count": null,
      "outputs": []
    }
  ]
}