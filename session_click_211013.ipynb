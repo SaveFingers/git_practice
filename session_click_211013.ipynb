{
  "nbformat": 4,
  "nbformat_minor": 0,
  "metadata": {
    "colab": {
      "name": "session_click_211013.ipynb",
      "provenance": [],
      "collapsed_sections": []
    },
    "kernelspec": {
      "name": "python3",
      "display_name": "Python 3"
    },
    "language_info": {
      "name": "python"
    }
  },
  "cells": [
    {
      "cell_type": "markdown",
      "metadata": {
        "id": "FHWmAdyVAeq_"
      },
      "source": [
        "# **상품별 클릭 수(Session, Timestamp 기준) 카운트**\n",
        "\n",
        "- 공개되어 있는 [E-commerce Session 데이터셋(Yoochoose)](https://www.kaggle.com/chadgostopp/recsys-challenge-2015)을 이용하였습니다.\n",
        "\n",
        "\n",
        "#### **- 목적 및 전략**\n",
        "\n",
        "- item별 클릭 수를 count해서 해당 item에 대한 사용자의 preference/rating을 판단하는 지표로 활용하는 것이 목적입니다.\n",
        "- **실제 프로젝트에서 user cluster별 선호하는 item과 선호도(클릭 수)를 도출하는 과정과 동일합니다.**\n",
        "- 여기서 도출된 결과(클릭 수)는 recommendation을 위한 filtering 알고리즘(지도 학습)에 **정답(Label) 데이터로 활용되므로 매우 중요합니다.**\n",
        "- 클릭 수뿐 아니라 장바구니, 찜하기, 구매 등의 데이터를 활용해 사용자의 선호도를 파악하는 feature로 활용할 수 있습니다."
      ]
    },
    {
      "cell_type": "code",
      "metadata": {
        "id": "5l6NIc2uV5mS"
      },
      "source": [
        "import os\n",
        "from urllib import request\n",
        "import warnings\n",
        "warnings.filterwarnings(\"ignore\")\n",
        "\n",
        "import numpy as np\n",
        "import pandas as pd\n",
        "import matplotlib.pyplot as plt\n",
        "%matplotlib inline"
      ],
      "execution_count": null,
      "outputs": []
    },
    {
      "cell_type": "code",
      "metadata": {
        "id": "LWZabKYRXFcC"
      },
      "source": [
        "file_path = '/content/drive/MyDrive/AIFFEL/해커톤3/미니해커톤_토이모델구현/yoochoose-clicks.dat'"
      ],
      "execution_count": null,
      "outputs": []
    },
    {
      "cell_type": "code",
      "metadata": {
        "id": "XOKg2JHpmMcd"
      },
      "source": [
        "session = pd.read_table(file_path, header=None, encoding='utf-8', sep=',', names=['session_id', 'timestamp', 'item_id', 'category'])"
      ],
      "execution_count": null,
      "outputs": []
    },
    {
      "cell_type": "code",
      "metadata": {
        "id": "atfj3T1PTjz9",
        "colab": {
          "base_uri": "https://localhost:8080/",
          "height": 204
        },
        "outputId": "53cce34c-0eab-4354-dd31-698d6e73c0af"
      },
      "source": [
        "# 원본 데이터\n",
        "session.head()"
      ],
      "execution_count": null,
      "outputs": [
        {
          "output_type": "execute_result",
          "data": {
            "text/html": [
              "<div>\n",
              "<style scoped>\n",
              "    .dataframe tbody tr th:only-of-type {\n",
              "        vertical-align: middle;\n",
              "    }\n",
              "\n",
              "    .dataframe tbody tr th {\n",
              "        vertical-align: top;\n",
              "    }\n",
              "\n",
              "    .dataframe thead th {\n",
              "        text-align: right;\n",
              "    }\n",
              "</style>\n",
              "<table border=\"1\" class=\"dataframe\">\n",
              "  <thead>\n",
              "    <tr style=\"text-align: right;\">\n",
              "      <th></th>\n",
              "      <th>session_id</th>\n",
              "      <th>timestamp</th>\n",
              "      <th>item_id</th>\n",
              "      <th>category</th>\n",
              "    </tr>\n",
              "  </thead>\n",
              "  <tbody>\n",
              "    <tr>\n",
              "      <th>0</th>\n",
              "      <td>1</td>\n",
              "      <td>2014-04-07T10:51:09.277Z</td>\n",
              "      <td>214536502</td>\n",
              "      <td>0</td>\n",
              "    </tr>\n",
              "    <tr>\n",
              "      <th>1</th>\n",
              "      <td>1</td>\n",
              "      <td>2014-04-07T10:54:09.868Z</td>\n",
              "      <td>214536500</td>\n",
              "      <td>0</td>\n",
              "    </tr>\n",
              "    <tr>\n",
              "      <th>2</th>\n",
              "      <td>1</td>\n",
              "      <td>2014-04-07T10:54:46.998Z</td>\n",
              "      <td>214536506</td>\n",
              "      <td>0</td>\n",
              "    </tr>\n",
              "    <tr>\n",
              "      <th>3</th>\n",
              "      <td>1</td>\n",
              "      <td>2014-04-07T10:57:00.306Z</td>\n",
              "      <td>214577561</td>\n",
              "      <td>0</td>\n",
              "    </tr>\n",
              "    <tr>\n",
              "      <th>4</th>\n",
              "      <td>2</td>\n",
              "      <td>2014-04-07T13:56:37.614Z</td>\n",
              "      <td>214662742</td>\n",
              "      <td>0</td>\n",
              "    </tr>\n",
              "  </tbody>\n",
              "</table>\n",
              "</div>"
            ],
            "text/plain": [
              "   session_id                 timestamp    item_id category\n",
              "0           1  2014-04-07T10:51:09.277Z  214536502        0\n",
              "1           1  2014-04-07T10:54:09.868Z  214536500        0\n",
              "2           1  2014-04-07T10:54:46.998Z  214536506        0\n",
              "3           1  2014-04-07T10:57:00.306Z  214577561        0\n",
              "4           2  2014-04-07T13:56:37.614Z  214662742        0"
            ]
          },
          "metadata": {},
          "execution_count": 5
        }
      ]
    },
    {
      "cell_type": "code",
      "metadata": {
        "colab": {
          "base_uri": "https://localhost:8080/"
        },
        "id": "YCerdZKs9T8_",
        "outputId": "8306b8f6-6e95-444b-b6c1-59bee48234ef"
      },
      "source": [
        "# 원본 데이터셋 크기\n",
        "session.shape"
      ],
      "execution_count": null,
      "outputs": [
        {
          "output_type": "execute_result",
          "data": {
            "text/plain": [
              "(33003944, 4)"
            ]
          },
          "metadata": {},
          "execution_count": 6
        }
      ]
    },
    {
      "cell_type": "code",
      "metadata": {
        "colab": {
          "base_uri": "https://localhost:8080/"
        },
        "id": "RqBr60QD8E_L",
        "outputId": "83eb99a6-d81e-4224-867f-bcc323df5222"
      },
      "source": [
        "# 데이터 컬럼별 unique number check\n",
        "session.nunique()"
      ],
      "execution_count": null,
      "outputs": [
        {
          "output_type": "execute_result",
          "data": {
            "text/plain": [
              "session_id     9249729\n",
              "timestamp     32937845\n",
              "item_id          52739\n",
              "category           340\n",
              "dtype: int64"
            ]
          },
          "metadata": {},
          "execution_count": 7
        }
      ]
    },
    {
      "cell_type": "code",
      "metadata": {
        "id": "-us8_slfc8Nt"
      },
      "source": [
        "# 필요 없는 column drop\n",
        "session.drop('category', axis=1, inplace=True)"
      ],
      "execution_count": null,
      "outputs": []
    },
    {
      "cell_type": "code",
      "metadata": {
        "colab": {
          "base_uri": "https://localhost:8080/"
        },
        "id": "Lovy9iSa9VYD",
        "outputId": "915748ec-3f99-4b71-8d30-b9ee7fc53215"
      },
      "source": [
        "# 중복 data drop\n",
        "session.drop_duplicates(inplace=True)\n",
        "\n",
        "# 전처리 후 데이터 크기\n",
        "session.shape"
      ],
      "execution_count": null,
      "outputs": [
        {
          "output_type": "execute_result",
          "data": {
            "text/plain": [
              "(33003875, 3)"
            ]
          },
          "metadata": {},
          "execution_count": 9
        }
      ]
    },
    {
      "cell_type": "code",
      "metadata": {
        "id": "SvXYp5yH-QS0"
      },
      "source": [
        "# item_id별 클릭 수 count\n",
        "click = session.groupby('item_id').count()"
      ],
      "execution_count": null,
      "outputs": []
    },
    {
      "cell_type": "code",
      "metadata": {
        "colab": {
          "base_uri": "https://localhost:8080/",
          "height": 450
        },
        "id": "iF1q_giz_kG7",
        "outputId": "ec90bab8-208c-4163-8a9b-f0b4b1e8473e"
      },
      "source": [
        "# click 수가 가장 많은 item 순으로 정렬\n",
        "# item_id별 click 수를 카운트한 결과 도출 완료!\n",
        "click.sort_values(by='timestamp', ascending=False)"
      ],
      "execution_count": null,
      "outputs": [
        {
          "output_type": "execute_result",
          "data": {
            "text/html": [
              "<div>\n",
              "<style scoped>\n",
              "    .dataframe tbody tr th:only-of-type {\n",
              "        vertical-align: middle;\n",
              "    }\n",
              "\n",
              "    .dataframe tbody tr th {\n",
              "        vertical-align: top;\n",
              "    }\n",
              "\n",
              "    .dataframe thead th {\n",
              "        text-align: right;\n",
              "    }\n",
              "</style>\n",
              "<table border=\"1\" class=\"dataframe\">\n",
              "  <thead>\n",
              "    <tr style=\"text-align: right;\">\n",
              "      <th></th>\n",
              "      <th>session_id</th>\n",
              "      <th>timestamp</th>\n",
              "    </tr>\n",
              "    <tr>\n",
              "      <th>item_id</th>\n",
              "      <th></th>\n",
              "      <th></th>\n",
              "    </tr>\n",
              "  </thead>\n",
              "  <tbody>\n",
              "    <tr>\n",
              "      <th>643078800</th>\n",
              "      <td>147419</td>\n",
              "      <td>147419</td>\n",
              "    </tr>\n",
              "    <tr>\n",
              "      <th>214853094</th>\n",
              "      <td>125690</td>\n",
              "      <td>125690</td>\n",
              "    </tr>\n",
              "    <tr>\n",
              "      <th>214829878</th>\n",
              "      <td>113488</td>\n",
              "      <td>113488</td>\n",
              "    </tr>\n",
              "    <tr>\n",
              "      <th>214853420</th>\n",
              "      <td>78448</td>\n",
              "      <td>78448</td>\n",
              "    </tr>\n",
              "    <tr>\n",
              "      <th>214826610</th>\n",
              "      <td>69710</td>\n",
              "      <td>69710</td>\n",
              "    </tr>\n",
              "    <tr>\n",
              "      <th>...</th>\n",
              "      <td>...</td>\n",
              "      <td>...</td>\n",
              "    </tr>\n",
              "    <tr>\n",
              "      <th>214811685</th>\n",
              "      <td>1</td>\n",
              "      <td>1</td>\n",
              "    </tr>\n",
              "    <tr>\n",
              "      <th>214811687</th>\n",
              "      <td>1</td>\n",
              "      <td>1</td>\n",
              "    </tr>\n",
              "    <tr>\n",
              "      <th>214811690</th>\n",
              "      <td>1</td>\n",
              "      <td>1</td>\n",
              "    </tr>\n",
              "    <tr>\n",
              "      <th>214811692</th>\n",
              "      <td>1</td>\n",
              "      <td>1</td>\n",
              "    </tr>\n",
              "    <tr>\n",
              "      <th>214554114</th>\n",
              "      <td>1</td>\n",
              "      <td>1</td>\n",
              "    </tr>\n",
              "  </tbody>\n",
              "</table>\n",
              "<p>52739 rows × 2 columns</p>\n",
              "</div>"
            ],
            "text/plain": [
              "           session_id  timestamp\n",
              "item_id                         \n",
              "643078800      147419     147419\n",
              "214853094      125690     125690\n",
              "214829878      113488     113488\n",
              "214853420       78448      78448\n",
              "214826610       69710      69710\n",
              "...               ...        ...\n",
              "214811685           1          1\n",
              "214811687           1          1\n",
              "214811690           1          1\n",
              "214811692           1          1\n",
              "214554114           1          1\n",
              "\n",
              "[52739 rows x 2 columns]"
            ]
          },
          "metadata": {},
          "execution_count": 15
        }
      ]
    }
  ]
}